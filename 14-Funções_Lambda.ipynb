{
  "nbformat": 4,
  "nbformat_minor": 0,
  "metadata": {
    "colab": {
      "provenance": [],
      "include_colab_link": true
    },
    "kernelspec": {
      "name": "python3",
      "display_name": "Python 3"
    },
    "language_info": {
      "name": "python"
    }
  },
  "cells": [
    {
      "cell_type": "markdown",
      "metadata": {
        "id": "view-in-github",
        "colab_type": "text"
      },
      "source": [
        "<a href=\"https://colab.research.google.com/github/Psousace/Trading_Dados/blob/main/14-Fun%C3%A7%C3%B5es_Lambda.ipynb\" target=\"_parent\"><img src=\"https://colab.research.google.com/assets/colab-badge.svg\" alt=\"Open In Colab\"/></a>"
      ]
    },
    {
      "cell_type": "markdown",
      "source": [
        "<center><img src = \"https://github.com/Trading-com-Dados/pmf/blob/main/logotipo-trading-com-dados.svg?raw=true\" width = \"200\">"
      ],
      "metadata": {
        "id": "NoGQ3itYnf9J"
      }
    },
    {
      "cell_type": "markdown",
      "source": [
        "# **Fundamentos da Programação em Python**\n"
      ],
      "metadata": {
        "id": "yYOEfGkBI8t6"
      }
    },
    {
      "cell_type": "markdown",
      "source": [
        "## Funções Lambda"
      ],
      "metadata": {
        "id": "a7Uf4fZ8NAcs"
      }
    },
    {
      "cell_type": "markdown",
      "source": [
        "São funções que não precisam de definição forma (explícita) podendo ser chamadas em apenas uma linha."
      ],
      "metadata": {
        "id": "9qR71e0HNB1M"
      }
    },
    {
      "cell_type": "markdown",
      "source": [
        "Suponha que queremos criar uma função que eleva os números ao quadrado:"
      ],
      "metadata": {
        "id": "26U83L5LNeFs"
      }
    },
    {
      "cell_type": "code",
      "source": [
        "def quadrado (numero):\n",
        "  return numero**2"
      ],
      "metadata": {
        "id": "6DSGZG8oNf_c"
      },
      "execution_count": null,
      "outputs": []
    },
    {
      "cell_type": "code",
      "source": [
        "quadrado(10)"
      ],
      "metadata": {
        "colab": {
          "base_uri": "https://localhost:8080/"
        },
        "id": "QorOuthCNpy4",
        "outputId": "c1cca6d1-81de-40ee-83bd-502fb06cfaac"
      },
      "execution_count": null,
      "outputs": [
        {
          "output_type": "execute_result",
          "data": {
            "text/plain": [
              "100"
            ]
          },
          "metadata": {},
          "execution_count": 2
        }
      ]
    },
    {
      "cell_type": "code",
      "source": [
        "quadrado(25)"
      ],
      "metadata": {
        "colab": {
          "base_uri": "https://localhost:8080/"
        },
        "id": "fEB1bDsFNyB7",
        "outputId": "de62dba4-cebd-456c-afe2-aaa3fd496b3d"
      },
      "execution_count": null,
      "outputs": [
        {
          "output_type": "execute_result",
          "data": {
            "text/plain": [
              "625"
            ]
          },
          "metadata": {},
          "execution_count": 3
        }
      ]
    },
    {
      "cell_type": "markdown",
      "source": [
        "Com o comando lambda, não precisamos dar um nome a essa função nem defini-la, basta especificar qual a tarefa que precisamos executar"
      ],
      "metadata": {
        "id": "IMZJcXbgNzgz"
      }
    },
    {
      "cell_type": "code",
      "source": [
        "lambda numero: numero**2"
      ],
      "metadata": {
        "colab": {
          "base_uri": "https://localhost:8080/"
        },
        "id": "YVumgVKEN5Kz",
        "outputId": "f97dfc25-be45-46c1-e098-2f1e20e34aee"
      },
      "execution_count": null,
      "outputs": [
        {
          "output_type": "execute_result",
          "data": {
            "text/plain": [
              "<function __main__.<lambda>(numero)>"
            ]
          },
          "metadata": {},
          "execution_count": 4
        }
      ]
    },
    {
      "cell_type": "markdown",
      "source": [
        "Caso seja do nosso interesse, podemos criar uma variável que recebe a operação realizada pela função lambda."
      ],
      "metadata": {
        "id": "t9FQwRFiOO3i"
      }
    },
    {
      "cell_type": "code",
      "source": [
        "quadrado_lambda = lambda numero: numero**2"
      ],
      "metadata": {
        "id": "TdclLprBOTbr"
      },
      "execution_count": null,
      "outputs": []
    },
    {
      "cell_type": "code",
      "source": [
        "quadrado_lambda(2)"
      ],
      "metadata": {
        "colab": {
          "base_uri": "https://localhost:8080/"
        },
        "id": "yR-XIxYvOVzL",
        "outputId": "f12de130-1d84-416f-ee28-9c4e5dc6a60e"
      },
      "execution_count": null,
      "outputs": [
        {
          "output_type": "execute_result",
          "data": {
            "text/plain": [
              "4"
            ]
          },
          "metadata": {},
          "execution_count": 6
        }
      ]
    },
    {
      "cell_type": "code",
      "source": [
        "quadrado_lambda(5)"
      ],
      "metadata": {
        "colab": {
          "base_uri": "https://localhost:8080/"
        },
        "id": "ftch7H-5Oaz0",
        "outputId": "cde1ecf5-6bfa-480c-e8a3-18524b0b653b"
      },
      "execution_count": null,
      "outputs": [
        {
          "output_type": "execute_result",
          "data": {
            "text/plain": [
              "25"
            ]
          },
          "metadata": {},
          "execution_count": 7
        }
      ]
    },
    {
      "cell_type": "markdown",
      "source": [
        "Exercício"
      ],
      "metadata": {
        "id": "DHBO8q2BObvj"
      }
    },
    {
      "cell_type": "code",
      "source": [
        "lista_ativos = 'WEGE MGLU VALE PRIO'"
      ],
      "metadata": {
        "id": "RNjKtv5vOfWE"
      },
      "execution_count": null,
      "outputs": []
    },
    {
      "cell_type": "markdown",
      "source": [
        "Dada essa string, transforme-a em uma lista de tickers e depois adicione '3' ao fim de cada ticker. Use uma função lambda."
      ],
      "metadata": {
        "id": "YceOeneEOg98"
      }
    },
    {
      "cell_type": "markdown",
      "source": [
        "1. Separar os tickers"
      ],
      "metadata": {
        "id": "UtugI8mnOnIM"
      }
    },
    {
      "cell_type": "code",
      "source": [
        "nova_lista = lista_ativos.split()"
      ],
      "metadata": {
        "id": "ElMqes6HOq-L"
      },
      "execution_count": null,
      "outputs": []
    },
    {
      "cell_type": "code",
      "source": [
        "nova_lista"
      ],
      "metadata": {
        "colab": {
          "base_uri": "https://localhost:8080/"
        },
        "id": "UV4n2mdrOsqc",
        "outputId": "c005ace8-8e74-430b-9ccc-650a5ab52b3f"
      },
      "execution_count": null,
      "outputs": [
        {
          "output_type": "execute_result",
          "data": {
            "text/plain": [
              "['WEGE', 'MGLU', 'VALE', 'PRIO']"
            ]
          },
          "metadata": {},
          "execution_count": 11
        }
      ]
    },
    {
      "cell_type": "markdown",
      "source": [
        "2. Criar função lambda que adiciona '3' ao fim de um ticker específico"
      ],
      "metadata": {
        "id": "KBOHiINXOvjE"
      }
    },
    {
      "cell_type": "code",
      "source": [
        "transforma_ticker = lambda ticker: ticker + '3'"
      ],
      "metadata": {
        "id": "z79kCAIDOyJc"
      },
      "execution_count": null,
      "outputs": []
    },
    {
      "cell_type": "code",
      "source": [
        "transforma_ticker('SUZB')"
      ],
      "metadata": {
        "colab": {
          "base_uri": "https://localhost:8080/",
          "height": 35
        },
        "id": "WC_av3P6PDGU",
        "outputId": "5c92244d-d176-454d-b436-e9c0e8433b81"
      },
      "execution_count": null,
      "outputs": [
        {
          "output_type": "execute_result",
          "data": {
            "text/plain": [
              "'SUZB3'"
            ],
            "application/vnd.google.colaboratory.intrinsic+json": {
              "type": "string"
            }
          },
          "metadata": {},
          "execution_count": 14
        }
      ]
    },
    {
      "cell_type": "code",
      "source": [
        "transforma_ticker('VALE')"
      ],
      "metadata": {
        "colab": {
          "base_uri": "https://localhost:8080/",
          "height": 35
        },
        "id": "18taD70ePHrj",
        "outputId": "db4c6fb8-c5c1-4ab1-c4f6-03e1f5a19c3a"
      },
      "execution_count": null,
      "outputs": [
        {
          "output_type": "execute_result",
          "data": {
            "text/plain": [
              "'VALE3'"
            ],
            "application/vnd.google.colaboratory.intrinsic+json": {
              "type": "string"
            }
          },
          "metadata": {},
          "execution_count": 15
        }
      ]
    },
    {
      "cell_type": "markdown",
      "source": [
        "3. Extrapolar essa função para todos os elementos da lista acima"
      ],
      "metadata": {
        "id": "v_hUlVwBPJr0"
      }
    },
    {
      "cell_type": "code",
      "source": [
        "map(transforma_ticker, nova_lista)"
      ],
      "metadata": {
        "colab": {
          "base_uri": "https://localhost:8080/"
        },
        "id": "FAPFriRGPQkb",
        "outputId": "0e39a4e9-8dc7-47e7-f423-a1a0460b3d84"
      },
      "execution_count": null,
      "outputs": [
        {
          "output_type": "execute_result",
          "data": {
            "text/plain": [
              "<map at 0x7f00eb47d2e0>"
            ]
          },
          "metadata": {},
          "execution_count": 16
        }
      ]
    },
    {
      "cell_type": "code",
      "source": [
        "list(map(transforma_ticker, nova_lista))"
      ],
      "metadata": {
        "colab": {
          "base_uri": "https://localhost:8080/"
        },
        "id": "zkYhyfUaPbZT",
        "outputId": "cf0069d0-dd23-4c5a-c1ed-c7adf520b67d"
      },
      "execution_count": null,
      "outputs": [
        {
          "output_type": "execute_result",
          "data": {
            "text/plain": [
              "['WEGE3', 'MGLU3', 'VALE3', 'PRIO3']"
            ]
          },
          "metadata": {},
          "execution_count": 17
        }
      ]
    },
    {
      "cell_type": "markdown",
      "source": [
        "4. Otimizar o nosso código"
      ],
      "metadata": {
        "id": "tDrS0v0cPdIr"
      }
    },
    {
      "cell_type": "code",
      "source": [
        "list(map(lambda ticker: ticker + '3' , nova_lista))"
      ],
      "metadata": {
        "colab": {
          "base_uri": "https://localhost:8080/"
        },
        "id": "CbD2mPpGPiE7",
        "outputId": "0555f5a0-c1b3-492f-9b9f-09c56bafc424"
      },
      "execution_count": null,
      "outputs": [
        {
          "output_type": "execute_result",
          "data": {
            "text/plain": [
              "['WEGE3', 'MGLU3', 'VALE3', 'PRIO3']"
            ]
          },
          "metadata": {},
          "execution_count": 18
        }
      ]
    },
    {
      "cell_type": "code",
      "source": [
        "list(map(lambda ticker: ticker + '3' , lista_ativos.split()))"
      ],
      "metadata": {
        "colab": {
          "base_uri": "https://localhost:8080/"
        },
        "id": "NZm9QystPvzb",
        "outputId": "cb00c3c3-2dd8-43b5-8efb-7567c87c7030"
      },
      "execution_count": null,
      "outputs": [
        {
          "output_type": "execute_result",
          "data": {
            "text/plain": [
              "['WEGE3', 'MGLU3', 'VALE3', 'PRIO3']"
            ]
          },
          "metadata": {},
          "execution_count": 19
        }
      ]
    },
    {
      "cell_type": "markdown",
      "source": [
        "Exercício\n",
        "\n",
        "Dada a função que criamos acima que eleva vários números ao quadrado, aplique-a a todos os elementos da lista abaixo."
      ],
      "metadata": {
        "id": "-1oOneJhQIRT"
      }
    },
    {
      "cell_type": "code",
      "source": [
        "lista_numeros = [4, 8, 12, 16, 20, 24, 28, 32, 9, 5, 3, 13, 17, 19]"
      ],
      "metadata": {
        "id": "ChA1p5bmQLCe"
      },
      "execution_count": null,
      "outputs": []
    },
    {
      "cell_type": "code",
      "source": [
        "list(map(quadrado_lambda, lista_numeros))"
      ],
      "metadata": {
        "colab": {
          "base_uri": "https://localhost:8080/"
        },
        "id": "D29BU3PNQQDC",
        "outputId": "f982bcda-7ebd-4577-8736-10ae312c2220"
      },
      "execution_count": null,
      "outputs": [
        {
          "output_type": "execute_result",
          "data": {
            "text/plain": [
              "[16, 64, 144, 256, 400, 576, 784, 1024, 81, 25, 9, 169, 289, 361]"
            ]
          },
          "metadata": {},
          "execution_count": 21
        }
      ]
    },
    {
      "cell_type": "code",
      "source": [
        "list(map(lambda numero: numero**2, lista_numeros))"
      ],
      "metadata": {
        "colab": {
          "base_uri": "https://localhost:8080/"
        },
        "id": "eM0AcX7dQWrm",
        "outputId": "c94fc021-3124-4a0a-cc40-e37fb8fb68db"
      },
      "execution_count": null,
      "outputs": [
        {
          "output_type": "execute_result",
          "data": {
            "text/plain": [
              "[16, 64, 144, 256, 400, 576, 784, 1024, 81, 25, 9, 169, 289, 361]"
            ]
          },
          "metadata": {},
          "execution_count": 22
        }
      ]
    },
    {
      "cell_type": "code",
      "source": [],
      "metadata": {
        "id": "tZnHD58hQi56"
      },
      "execution_count": null,
      "outputs": []
    }
  ]
}